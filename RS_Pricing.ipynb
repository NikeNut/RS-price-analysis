{
 "cells": [
  {
   "cell_type": "markdown",
   "metadata": {},
   "source": [
    "# OSRS Pricing Tooling\n",
    "\n",
    "This project is intended to practice using Polars, DataFrame library for Rust & Python\n",
    "\n",
    " - [x] Get OSRS Mapping Data\n",
    " - [x] Get OSRS Timeseries Data\n",
    " - [x] Identify buy/no-buy and profit for battlestaff & bow creating -> high-alching\n",
    " - [ ] Enhanced buy/no-buy logic\n",
    " - [ ] Generate plots... maybe via R's ggplot2\n",
    " - [ ] Identify high-alch profits\n",
    " - [x] Generate HTML using markdown\n",
    " - [x] Publish to GitLab Pages\n",
    " - [ ] Turn into Python script\n",
    " - [ ] Automate\n",
    " \n",
    "Additional features TBD "
   ]
  },
  {
   "cell_type": "code",
   "execution_count": 1,
   "metadata": {},
   "outputs": [],
   "source": [
    "import polars as pl\n",
    "import pandas as pd"
   ]
  },
  {
   "cell_type": "markdown",
   "metadata": {},
   "source": [
    "## Query OSRS Mapping API\n",
    "\n",
    " - Pull data for every item ID\n",
    " - Normalize into Pandas DF\n",
    " - Convert Pandas DF to Polars DF\n",
    " - Declare column data types"
   ]
  },
  {
   "cell_type": "code",
   "execution_count": 2,
   "metadata": {},
   "outputs": [
    {
     "data": {
      "text/html": [
       "<div><style>\n",
       ".dataframe > thead > tr > th,\n",
       ".dataframe > tbody > tr > td {\n",
       "  text-align: right;\n",
       "}\n",
       "</style>\n",
       "<small>shape: (3, 9)</small><table border=\"1\" class=\"dataframe\"><thead><tr><th>examine</th><th>id</th><th>members</th><th>lowalch</th><th>limit</th><th>value</th><th>highalch</th><th>icon</th><th>name</th></tr><tr><td>str</td><td>i64</td><td>bool</td><td>f64</td><td>f64</td><td>i64</td><td>f64</td><td>str</td><td>str</td></tr></thead><tbody><tr><td>&quot;A dark tuxedo …</td><td>19958</td><td>true</td><td>4000.0</td><td>4.0</td><td>10000</td><td>6000.0</td><td>&quot;Dark tuxedo ja…</td><td>&quot;Dark tuxedo ja…</td></tr><tr><td>&quot;It&#x27;s got littl…</td><td>11260</td><td>true</td><td>1.0</td><td>13000.0</td><td>1</td><td>1.0</td><td>&quot;Impling jar.pn…</td><td>&quot;Impling jar&quot;</td></tr><tr><td>&quot;Vambraces made…</td><td>2491</td><td>true</td><td>1728.0</td><td>70.0</td><td>4320</td><td>2592.0</td><td>&quot;Black d&#x27;hide v…</td><td>&quot;Black d&#x27;hide v…</td></tr></tbody></table></div>"
      ],
      "text/plain": [
       "shape: (3, 9)\n",
       "┌───────────────┬───────┬─────────┬─────────┬───┬───────┬──────────┬───────────────┬───────────────┐\n",
       "│ examine       ┆ id    ┆ members ┆ lowalch ┆ … ┆ value ┆ highalch ┆ icon          ┆ name          │\n",
       "│ ---           ┆ ---   ┆ ---     ┆ ---     ┆   ┆ ---   ┆ ---      ┆ ---           ┆ ---           │\n",
       "│ str           ┆ i64   ┆ bool    ┆ f64     ┆   ┆ i64   ┆ f64      ┆ str           ┆ str           │\n",
       "╞═══════════════╪═══════╪═════════╪═════════╪═══╪═══════╪══════════╪═══════════════╪═══════════════╡\n",
       "│ A dark tuxedo ┆ 19958 ┆ true    ┆ 4000.0  ┆ … ┆ 10000 ┆ 6000.0   ┆ Dark tuxedo   ┆ Dark tuxedo   │\n",
       "│ jacket with a ┆       ┆         ┆         ┆   ┆       ┆          ┆ jacket.png    ┆ jacket        │\n",
       "│ whit…         ┆       ┆         ┆         ┆   ┆       ┆          ┆               ┆               │\n",
       "│ It's got      ┆ 11260 ┆ true    ┆ 1.0     ┆ … ┆ 1     ┆ 1.0      ┆ Impling       ┆ Impling jar   │\n",
       "│ little holes  ┆       ┆         ┆         ┆   ┆       ┆          ┆ jar.png       ┆               │\n",
       "│ in the top…   ┆       ┆         ┆         ┆   ┆       ┆          ┆               ┆               │\n",
       "│ Vambraces     ┆ 2491  ┆ true    ┆ 1728.0  ┆ … ┆ 4320  ┆ 2592.0   ┆ Black d'hide  ┆ Black d'hide  │\n",
       "│ made from     ┆       ┆         ┆         ┆   ┆       ┆          ┆ vambraces.png ┆ vambraces     │\n",
       "│ 100% real dr… ┆       ┆         ┆         ┆   ┆       ┆          ┆               ┆               │\n",
       "└───────────────┴───────┴─────────┴─────────┴───┴───────┴──────────┴───────────────┴───────────────┘"
      ]
     },
     "execution_count": 2,
     "metadata": {},
     "output_type": "execute_result"
    }
   ],
   "source": [
    "import requests\n",
    "\n",
    "url = 'https://prices.runescape.wiki/api/v1/osrs/mapping'\n",
    "\n",
    "headers = {\n",
    "    'User-Agent': 'Major Discount Notification 0.1',\n",
    "    'From': 'j.grant.redskins@gmail.com'\n",
    "}\n",
    "\n",
    "# Polars native functions not working...\n",
    "# response = requests.get(url, headers=headers)\n",
    "# df_map = pl.from_dict(response.json())\n",
    "# df_map = pl.read_json(response.json())\n",
    "df_map = pd.json_normalize(requests.get(url, headers=headers).json())\n",
    "df_map = pl.DataFrame(df_map).with_columns(\n",
    "    [\n",
    "        pl.col(\"examine\").cast(pl.Utf8), pl.col(\"id\").cast(pl.Int64), pl.col(\"members\").cast(pl.Boolean),\n",
    "        pl.col(\"lowalch\").cast(pl.Float64), pl.col(\"limit\").cast(pl.Float64), pl.col(\"value\").cast(pl.Int64),\n",
    "        pl.col(\"highalch\").cast(pl.Float64), pl.col(\"icon\").cast(pl.Utf8), pl.col(\"name\").cast(pl.Utf8),\n",
    "    ]\n",
    ")\n",
    "df_map.sample(3)"
   ]
  },
  {
   "cell_type": "markdown",
   "metadata": {},
   "source": [
    "## Query OSRS Timeseries API\n",
    "\n",
    " - Identify Item IDs to query\n",
    "  - Only allowed to query a single ID per request\n",
    "  - Unneeded for output items being high-alched\n",
    "   - *but* query for items to be purchased solely for high alching profit\n",
    " - Pull data for every item ID\n",
    "   - Normalize into Pandas DF\n",
    "   - Convert Pandas DF to Polars DF\n",
    "   - Declare column data types"
   ]
  },
  {
   "cell_type": "code",
   "execution_count": 3,
   "metadata": {},
   "outputs": [],
   "source": [
    "osrs_item_ids = [\n",
    "    563, 562, 560, 565, 573, 569, 571, 1777, 5295, 257, 207, 99, 231, 139, 561, 575, 569, 571, 1515,\n",
    "    5502, 5289, # palm [sappling|seed]\n",
    "    5503, 5290, # calquat [sappling|seed]\n",
    "    21480, 21488, # mahogany [sappling|seed]\n",
    "    5501, 5288, # papaya [sappling|seed]\n",
    "    5373, 5315 # yew [sappling|seed]\n",
    "    \n",
    "]\n",
    "osrs_high_alch_item_ids = [\n",
    "    1397, 1399, 1393, 1395, 855\n",
    "]\n",
    "# df_map.filter(pl.col('id').is_in((osrs_item_ids + osrs_high_alch_item_ids)))#.sample(3)\n",
    "\n",
    "base_url = 'https://prices.runescape.wiki/api/v1/osrs/timeseries?timestep=1h&id='\n",
    "headers = {\n",
    "    'User-Agent': 'Major Discount Notification 0.1',\n",
    "    'From': 'j.grant.redskins@gmail.com'  # This is another valid field\n",
    "}\n",
    "\n",
    "df_timeseries = pl.DataFrame()\n",
    "\n",
    "# Query for each itemID in array/list, then declare data types\n",
    "for item_id in osrs_item_ids:\n",
    "    response = requests.get(\n",
    "        base_url + str(item_id), headers=headers\n",
    "    ) # add non-200 response handling\n",
    "    df_timeseries = pl.concat(\n",
    "        [\n",
    "            df_timeseries, pl.DataFrame(\n",
    "                pd.json_normalize(response.json(), record_path=['data'])\n",
    "            ).lazy().with_columns(\n",
    "                [pl.lit(item_id).alias('id')]\n",
    "            ).with_columns(\n",
    "                [\n",
    "                    pl.col(\"timestamp\").cast(pl.Int64), pl.col(\"avgHighPrice\").cast(pl.Int64), pl.col(\"avgLowPrice\").cast(pl.Int64),\n",
    "                    pl.col(\"highPriceVolume\").cast(pl.Int64), pl.col(\"lowPriceVolume\").cast(pl.Int64), pl.col(\"id\").cast(pl.Int64)\n",
    "                ]\n",
    "            ).with_columns(\n",
    "                [(pl.col(\"timestamp\") * 1e3).cast(pl.Datetime).dt.with_time_unit(\"ms\").alias(\"datetime\")]\n",
    "            ).with_columns(\n",
    "                [pl.col(\"datetime\").dt.strftime(fmt=\"%Y-%m-%d %H\").cast(pl.Utf8).alias(\"ymd_h\")]\n",
    "            ).collect()\n",
    "        ], how = \"diagonal\", rechunk = True #vertical\n",
    "    )"
   ]
  },
  {
   "cell_type": "code",
   "execution_count": 5,
   "metadata": {},
   "outputs": [
    {
     "data": {
      "text/html": [
       "<div><style>\n",
       ".dataframe > thead > tr > th,\n",
       ".dataframe > tbody > tr > td {\n",
       "  text-align: right;\n",
       "}\n",
       "</style>\n",
       "<small>shape: (3, 8)</small><table border=\"1\" class=\"dataframe\"><thead><tr><th>timestamp</th><th>avgHighPrice</th><th>avgLowPrice</th><th>highPriceVolume</th><th>lowPriceVolume</th><th>id</th><th>datetime</th><th>ymd_h</th></tr><tr><td>i64</td><td>i64</td><td>i64</td><td>i64</td><td>i64</td><td>i64</td><td>datetime[ms]</td><td>str</td></tr></thead><tbody><tr><td>1665432000</td><td>1459</td><td>1443</td><td>949</td><td>3564</td><td>569</td><td>2022-10-10 20:00:00</td><td>&quot;2022-10-10 20&quot;</td></tr><tr><td>1668013200</td><td>133</td><td>132</td><td>92425</td><td>182107</td><td>563</td><td>2022-11-09 17:00:00</td><td>&quot;2022-11-09 17&quot;</td></tr><tr><td>1665824400</td><td>210</td><td>206</td><td>26319</td><td>43428</td><td>1515</td><td>2022-10-15 09:00:00</td><td>&quot;2022-10-15 09&quot;</td></tr></tbody></table></div>"
      ],
      "text/plain": [
       "shape: (3, 8)\n",
       "┌────────────┬────────────┬───────────┬────────────┬────────────┬──────┬─────────────┬─────────────┐\n",
       "│ timestamp  ┆ avgHighPri ┆ avgLowPri ┆ highPriceV ┆ lowPriceVo ┆ id   ┆ datetime    ┆ ymd_h       │\n",
       "│ ---        ┆ ce         ┆ ce        ┆ olume      ┆ lume       ┆ ---  ┆ ---         ┆ ---         │\n",
       "│ i64        ┆ ---        ┆ ---       ┆ ---        ┆ ---        ┆ i64  ┆ datetime[ms ┆ str         │\n",
       "│            ┆ i64        ┆ i64       ┆ i64        ┆ i64        ┆      ┆ ]           ┆             │\n",
       "╞════════════╪════════════╪═══════════╪════════════╪════════════╪══════╪═════════════╪═════════════╡\n",
       "│ 1665432000 ┆ 1459       ┆ 1443      ┆ 949        ┆ 3564       ┆ 569  ┆ 2022-10-10  ┆ 2022-10-10  │\n",
       "│            ┆            ┆           ┆            ┆            ┆      ┆ 20:00:00    ┆ 20          │\n",
       "│ 1668013200 ┆ 133        ┆ 132       ┆ 92425      ┆ 182107     ┆ 563  ┆ 2022-11-09  ┆ 2022-11-09  │\n",
       "│            ┆            ┆           ┆            ┆            ┆      ┆ 17:00:00    ┆ 17          │\n",
       "│ 1665824400 ┆ 210        ┆ 206       ┆ 26319      ┆ 43428      ┆ 1515 ┆ 2022-10-15  ┆ 2022-10-15  │\n",
       "│            ┆            ┆           ┆            ┆            ┆      ┆ 09:00:00    ┆ 09          │\n",
       "└────────────┴────────────┴───────────┴────────────┴────────────┴──────┴─────────────┴─────────────┘"
      ]
     },
     "execution_count": 5,
     "metadata": {},
     "output_type": "execute_result"
    }
   ],
   "source": [
    "df_timeseries.sample(3)"
   ]
  },
  {
   "cell_type": "markdown",
   "metadata": {},
   "source": [
    "### Write Out Timeseries Data\n",
    "\n",
    "**Timeseries API RESTful service**: \n",
    "\"Gives a list of the high and low prices of item with the given id at the given interval, up to 365 maximum.\"\n",
    "\n",
    "If we want to do long-term trending, more than the 365 maximum, we need to incrementally grow the data by appending data written to \"disk\"\n",
    "\n",
    " - Check if data (parquet file) already exists\n",
    "  - If exists:\n",
    "    - read in missing (historical data not included in data pull limitations, 365 1h records)\n",
    " - Write data out to parquet file, zstd compression"
   ]
  },
  {
   "cell_type": "code",
   "execution_count": 4,
   "metadata": {},
   "outputs": [],
   "source": [
    "from os.path import exists\n",
    "from pathlib import Path\n",
    "\n",
    "data_directory = \"data/\"\n",
    "Path(data_directory).mkdir(parents=True, exist_ok=True)\n",
    "\n",
    "parquest_path = data_directory + \"osrs_timeseries_df.parquet\"\n",
    "parquet_exists = exists(parquest_path)\n",
    "\n",
    "# if data (parquet) already exists, then add missing (historical) data to the data set\n",
    "if parquet_exists:\n",
    "    df_timeseries = pl.concat(\n",
    "        [\n",
    "            df_timeseries,\n",
    "            # historical records saved off from previous run\n",
    "            pl.scan_parquet(parquest_path).filter(\n",
    "                pl.col(\"datetime\") < df_timeseries.select(\"datetime\").min()[0,0]\n",
    "            ).collect()\n",
    "        ], how = \"vertical\", rechunk = True\n",
    "    )\n",
    "\n",
    "# either write new (if file does not exist) or overwrite file with historical + new data\n",
    "df_timeseries.write_parquet(parquest_path, compression = \"zstd\")"
   ]
  },
  {
   "cell_type": "markdown",
   "metadata": {},
   "source": [
    "## Join Map & Timeseries Dataframes, Calculate Median & Most Recent Prices"
   ]
  },
  {
   "cell_type": "code",
   "execution_count": 6,
   "metadata": {},
   "outputs": [
    {
     "data": {
      "text/html": [
       "<div><style>\n",
       ".dataframe > thead > tr > th,\n",
       ".dataframe > tbody > tr > td {\n",
       "  text-align: right;\n",
       "}\n",
       "</style>\n",
       "<small>shape: (2, 7)</small><table border=\"1\" class=\"dataframe\"><thead><tr><th>id</th><th>med_avgHighPrice</th><th>last_avgHighPrice</th><th>last_avgLowPrice</th><th>highalch</th><th>members</th><th>name</th></tr><tr><td>i64</td><td>f64</td><td>i64</td><td>i64</td><td>f64</td><td>bool</td><td>str</td></tr></thead><tbody><tr><td>573</td><td>1336.0</td><td>1630</td><td>1614</td><td>180.0</td><td>true</td><td>&quot;Air orb&quot;</td></tr><tr><td>563</td><td>125.0</td><td>117</td><td>116</td><td>144.0</td><td>false</td><td>&quot;Law rune&quot;</td></tr></tbody></table></div>"
      ],
      "text/plain": [
       "shape: (2, 7)\n",
       "┌─────┬──────────────────┬───────────────────┬──────────────────┬──────────┬─────────┬──────────┐\n",
       "│ id  ┆ med_avgHighPrice ┆ last_avgHighPrice ┆ last_avgLowPrice ┆ highalch ┆ members ┆ name     │\n",
       "│ --- ┆ ---              ┆ ---               ┆ ---              ┆ ---      ┆ ---     ┆ ---      │\n",
       "│ i64 ┆ f64              ┆ i64               ┆ i64              ┆ f64      ┆ bool    ┆ str      │\n",
       "╞═════╪══════════════════╪═══════════════════╪══════════════════╪══════════╪═════════╪══════════╡\n",
       "│ 573 ┆ 1336.0           ┆ 1630              ┆ 1614             ┆ 180.0    ┆ true    ┆ Air orb  │\n",
       "│ 563 ┆ 125.0            ┆ 117               ┆ 116              ┆ 144.0    ┆ false   ┆ Law rune │\n",
       "└─────┴──────────────────┴───────────────────┴──────────────────┴──────────┴─────────┴──────────┘"
      ]
     },
     "execution_count": 6,
     "metadata": {},
     "output_type": "execute_result"
    }
   ],
   "source": [
    "df_results = df_timeseries.lazy().groupby(\"id\").agg(\n",
    "    pl.col(\"avgHighPrice\").median()\n",
    ").rename({\"avgHighPrice\": \"med_avgHighPrice\"}).join(\n",
    "    df_timeseries.lazy().groupby(\"id\").agg(\n",
    "        [\n",
    "            pl.all().sort_by('datetime').last()\n",
    "        ]\n",
    "    ).rename(\n",
    "        {\"avgHighPrice\": \"last_avgHighPrice\", \"avgLowPrice\": \"last_avgLowPrice\"}\n",
    "    ).select([\"id\", \"last_avgHighPrice\", \"last_avgLowPrice\"]),\n",
    "    on=\"id\", how=\"inner\"\n",
    ").join(\n",
    "    df_map.lazy().filter(pl.col('id').is_in((osrs_item_ids + osrs_high_alch_item_ids))).select(\n",
    "        [\"id\", \"highalch\", \"members\", \"name\"]\n",
    "    ),\n",
    "    on=\"id\", how=\"inner\"\n",
    ").collect()\n",
    "\n",
    "df_results.sample(2)"
   ]
  },
  {
   "cell_type": "code",
   "execution_count": null,
   "metadata": {},
   "outputs": [],
   "source": [
    "def gen_sappling_markdown(df_map, df_results, x_sappling_id):\n",
    "    seed_lookup = {\n",
    "        5502: 5289, 5503: 5290, 21480: 21488,\n",
    "        5501: 5288, 5373: 5315\n",
    "    }\n",
    "\n",
    "    df_sappling = df_results.filter(pl.col(\"id\") == x_sappling_id)\n",
    "\n",
    "    profit = (\n",
    "        df_results.filter(pl.col(\"id\") == x_sappling_id).select(\"last_avgLowPrice\").item()\n",
    "        -\n",
    "        df_results.filter(pl.col(\"id\") == seed_lookup[x_sappling_id]).select(\"last_avgLowPrice\").item()\n",
    "    )\n",
    "\n",
    "    sappling = (\n",
    "        \"### \" + df_sappling.select(\"name\")[0,0] + \": \\n\" +\n",
    "        \"**Profit**: *\" + str(profit) + \"* \"\n",
    "    )\n",
    "\n",
    "    return(sappling)"
   ]
  },
  {
   "cell_type": "code",
   "execution_count": null,
   "metadata": {},
   "outputs": [],
   "source": []
  },
  {
   "cell_type": "markdown",
   "metadata": {},
   "source": [
    "### Helper functions for generating buy/no-buy markdown"
   ]
  },
  {
   "cell_type": "code",
   "execution_count": 27,
   "metadata": {},
   "outputs": [],
   "source": [
    "def gen_staff_markdown(df_map, df_results, x_battlestaff_id, orb_id, nature_id = 561, battlestaff_price = 7000):\n",
    "\n",
    "    df_orb = df_results.lazy().filter(pl.col(\"id\") == orb_id).with_columns(\n",
    "        [\n",
    "            (\n",
    "                (\n",
    "                    # X battlestaff high alch price - (nature rune price + battlestaff_price)\n",
    "                    df_map.filter(pl.col(\"id\") == x_battlestaff_id).select(\"highalch\")[0,0] - \n",
    "                    (df_results.filter(pl.col(\"id\") == nature_id).select(\"last_avgHighPrice\")[0,0] + battlestaff_price)\n",
    "                ) - pl.col(\"last_avgHighPrice\")\n",
    "            ).alias(\"profit\"),\n",
    "            (\n",
    "                pl.col(\"last_avgHighPrice\")/pl.col(\"med_avgHighPrice\")\n",
    "            ).round(2).alias(\"discount\")\n",
    "        ]\n",
    "    ).with_columns(\n",
    "        [\n",
    "            pl.when(\n",
    "                    pl.col(\"profit\") >= 0\n",
    "                ).then(\"Buy\").otherwise(\"Don't Buy\").alias(\"if_Buy_str\"),\n",
    "            pl.when(pl.col(\"profit\") >= 0).then(\n",
    "                pl.concat_str(\n",
    "                    [\n",
    "                        pl.lit(\" between\"),\n",
    "                        pl.col(\"last_avgLowPrice\"),\n",
    "                        pl.lit(\"and\"),\n",
    "                        pl.col(\"last_avgHighPrice\")\n",
    "                    ], sep = \" \"\n",
    "                )\n",
    "            ).otherwise(\"\").alias(\"extra_str\")\n",
    "        ]\n",
    "    ).collect()\n",
    "\n",
    "    orb = (\n",
    "        \"### \" + df_orb.select(\"name\")[0,0] + \": \\n***\" + str(df_orb.select(\"if_Buy_str\")[0,0]) + \"***\" +\n",
    "        str(df_orb.select(\"extra_str\")[0,0]) + \".  \" +\n",
    "        \"**Profit**: *\" + str(df_orb.select(\"profit\")[0,0]) + \"* \" +\n",
    "        \"**Value**: *\" + str(df_orb.select(\"discount\")[0,0]) + \"x against historical median*\"\n",
    "    )\n",
    "\n",
    "    return(orb)\n",
    "\n",
    "def gen_bow_markdown(df_map, df_results, x_bow_id, log_id, nature_id = 561, bowstring_id = 1777):\n",
    "\n",
    "    df_bowstring = df_results.lazy().filter(pl.col(\"id\") == bowstring_id).with_columns(\n",
    "        [\n",
    "            (\n",
    "                (\n",
    "                    # X bow high alch price - (nature rune price + bowstring price + log price)\n",
    "                    df_map.filter(pl.col(\"id\") == x_bow_id).select(\"highalch\")[0,0] - \n",
    "                    (\n",
    "                        df_results.filter(pl.col(\"id\") == nature_id).select(\"last_avgHighPrice\")[0,0] + \n",
    "                        df_results.filter(pl.col(\"id\") == log_id).select(\"last_avgHighPrice\")[0,0]\n",
    "                    )\n",
    "                ) - pl.col(\"last_avgHighPrice\")\n",
    "            ).alias(\"profit\"),\n",
    "            (\n",
    "                pl.col(\"last_avgHighPrice\")/pl.col(\"med_avgHighPrice\")\n",
    "            ).round(2).alias(\"discount\")\n",
    "        ]\n",
    "    ).with_columns(\n",
    "        [\n",
    "            pl.when(\n",
    "                    pl.col(\"profit\") >= 0\n",
    "                ).then(\"Buy\").otherwise(\"Don't Buy\").alias(\"if_Buy_str\"),\n",
    "            pl.when(pl.col(\"profit\") >= 0).then(\n",
    "                pl.concat_str(\n",
    "                    [\n",
    "                        pl.lit(\" between\"),\n",
    "                        pl.col(\"last_avgLowPrice\"),\n",
    "                        pl.lit(\"and\"),\n",
    "                        pl.col(\"last_avgHighPrice\")\n",
    "                    ], sep = \" \"\n",
    "                )\n",
    "            ).otherwise(\"\").alias(\"extra_str\")\n",
    "        ]\n",
    "    ).collect()\n",
    "\n",
    "    bow_string = (\n",
    "        \"### \" + df_bowstring.select(\"name\")[0,0] + \": \\n***\" + str(df_bowstring.select(\"if_Buy_str\")[0,0]) + \"***\" +\n",
    "        str(df_bowstring.select(\"extra_str\")[0,0]) + \".  \" +\n",
    "        \"**Profit**: *\" + str(df_bowstring.select(\"profit\")[0,0]) + \"* \" +\n",
    "        \"**Value**: *\" + str(df_bowstring.select(\"discount\")[0,0]) + \"x against historical median*\"\n",
    "    )\n",
    "\n",
    "    return(bow_string)\n",
    "\n",
    "def gen_sappling_markdown(df_map, df_results, x_sappling_id):\n",
    "    seed_lookup = {\n",
    "        5502: 5289, 5503: 5290, 21480: 21488,\n",
    "        5501: 5288, 5373: 5315\n",
    "    }\n",
    "\n",
    "    df_sappling = df_results.filter(pl.col(\"id\") == x_sappling_id)\n",
    "\n",
    "    profit = (\n",
    "        df_results.filter(pl.col(\"id\") == x_sappling_id).select(\"last_avgLowPrice\").item()\n",
    "        -\n",
    "        df_results.filter(pl.col(\"id\") == seed_lookup[x_sappling_id]).select(\"last_avgLowPrice\").item()\n",
    "    )\n",
    "\n",
    "    sappling = (\n",
    "        \"### \" + df_sappling.select(\"name\")[0,0] + \": \\n\" +\n",
    "        \"**Profit**: *\" + str(profit) + \"* \"\n",
    "    )\n",
    "\n",
    "    return(sappling)"
   ]
  },
  {
   "cell_type": "markdown",
   "metadata": {},
   "source": [
    "## Generate HTML from Markdown\n",
    "\n",
    "Write out to HTML file for publishing via GitHub Pages"
   ]
  },
  {
   "cell_type": "code",
   "execution_count": 28,
   "metadata": {},
   "outputs": [
    {
     "name": "stderr",
     "output_type": "stream",
     "text": [
      "/var/folders/lt/3jgdljlj2190t3b2msmlfw200000gn/T/ipykernel_28332/3247635242.py:22: DeprecationWarning: `sep` is deprecated as an argument to `concat_str`; use `separator` instead.\n",
      "  pl.concat_str(\n",
      "/var/folders/lt/3jgdljlj2190t3b2msmlfw200000gn/T/ipykernel_28332/3247635242.py:67: DeprecationWarning: `sep` is deprecated as an argument to `concat_str`; use `separator` instead.\n",
      "  pl.concat_str(\n"
     ]
    },
    {
     "data": {
      "text/plain": [
       "1387"
      ]
     },
     "execution_count": 28,
     "metadata": {},
     "output_type": "execute_result"
    }
   ],
   "source": [
    "html_dir = \"public/\"\n",
    "Path(html_dir).mkdir(parents=True, exist_ok=True)\n",
    "\n",
    "import markdown2\n",
    "open((html_dir + \"output.html\"), \"w\").write(\n",
    "    markdown2.markdown(\n",
    "        \"\\n***\\n\" + \n",
    "        gen_staff_markdown(df_map, df_results, x_battlestaff_id = 1397, orb_id = 573) + \"\\n\" + \"\\n***\\n\" + \n",
    "        gen_staff_markdown(df_map, df_results, x_battlestaff_id = 1399, orb_id = 575) + \"\\n\" + \"\\n***\\n\" + \n",
    "        gen_staff_markdown(df_map, df_results, x_battlestaff_id = 1393, orb_id = 569) + \"\\n\" + \"\\n***\\n\" + \n",
    "        gen_staff_markdown(df_map, df_results, x_battlestaff_id = 1395, orb_id = 571) + \"\\n\\n\" + \"\\n***\\n\" + \n",
    "        gen_bow_markdown(df_map, df_results, x_bow_id = 855, log_id = 1515, nature_id = 561, bowstring_id = 1777) + \"\\n***\\n\" +\n",
    "        gen_sappling_markdown(df_map, df_results, x_sappling_id = 5502) + \"\\n***\\n\" +\n",
    "        gen_sappling_markdown(df_map, df_results, x_sappling_id = 5503) + \"\\n***\\n\" +\n",
    "        gen_sappling_markdown(df_map, df_results, x_sappling_id = 21480) + \"\\n***\\n\" +\n",
    "        gen_sappling_markdown(df_map, df_results, x_sappling_id = 5501) + \"\\n***\\n\" +\n",
    "        gen_sappling_markdown(df_map, df_results, x_sappling_id = 5373) + \"\\n***\\n\"\n",
    "    )\n",
    ")"
   ]
  },
  {
   "cell_type": "markdown",
   "metadata": {},
   "source": [
    "## Create an executable SHELL file"
   ]
  },
  {
   "cell_type": "code",
   "execution_count": 9,
   "metadata": {},
   "outputs": [
    {
     "data": {
      "text/plain": [
       "CompletedProcess(args='chmod u+x auto_update.sh', returncode=0)"
      ]
     },
     "execution_count": 9,
     "metadata": {},
     "output_type": "execute_result"
    }
   ],
   "source": [
    "import datetime\n",
    "\n",
    "py_script_path = \"RS_Pricing.py\"\n",
    "shell_script = \"auto_update.sh\"\n",
    "\n",
    "open((shell_script), \"w\").write(\n",
    "    \"#!/bin/bash\\n\"+\n",
    "    \"cd ~/Documents/Python_Projects/RS_Price_Analysis/\\n\" +\n",
    "    \"pipenv run python \" + py_script_path + \"\\n\" +\n",
    "    \"git add public/\\n\" +\n",
    "    \"git commit -m \\\"\" + \n",
    "    datetime.datetime.now().strftime(\"%Y-%m-%d %H\") +\n",
    "    \" site pub\\\"\" + \"\\n\"\n",
    "    \"git push -u origin main\"\n",
    ")\n",
    "\n",
    "import subprocess\n",
    "subprocess.run((\"chmod u+x \" + shell_script), shell=True, check=True)"
   ]
  }
 ],
 "metadata": {
  "kernelspec": {
   "display_name": "Python 3.9.13 ('RS_Price_Analysis-jhakbuL5')",
   "language": "python",
   "name": "python3"
  },
  "language_info": {
   "codemirror_mode": {
    "name": "ipython",
    "version": 3
   },
   "file_extension": ".py",
   "mimetype": "text/x-python",
   "name": "python",
   "nbconvert_exporter": "python",
   "pygments_lexer": "ipython3",
   "version": "3.9.13"
  },
  "orig_nbformat": 4,
  "vscode": {
   "interpreter": {
    "hash": "a06f1f24400d2929dcd6f3b9f86394d2d7d087a2df2fa8d85cd02e382f8b2567"
   }
  }
 },
 "nbformat": 4,
 "nbformat_minor": 2
}
